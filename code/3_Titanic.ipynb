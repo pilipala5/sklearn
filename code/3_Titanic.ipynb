{
 "cells": [
  {
   "cell_type": "code",
   "id": "initial_id",
   "metadata": {
    "collapsed": true,
    "ExecuteTime": {
     "end_time": "2024-08-14T18:52:07.671680Z",
     "start_time": "2024-08-14T18:52:07.667162Z"
    }
   },
   "source": [
    "import pandas as pd\n",
    "import numpy as np\n",
    "from sklearn import tree\n",
    "from sklearn import model_selection\n",
    "import matplotlib.pyplot as plt\n",
    "%matplotlib inline"
   ],
   "outputs": [],
   "execution_count": 192
  },
  {
   "metadata": {},
   "cell_type": "markdown",
   "source": "# read datasets",
   "id": "21ad4164412e48b"
  },
  {
   "metadata": {
    "ExecuteTime": {
     "end_time": "2024-08-14T18:52:09.601127Z",
     "start_time": "2024-08-14T18:52:09.581789Z"
    }
   },
   "cell_type": "code",
   "source": [
    "# read datasets\n",
    "train_data = pd.read_csv('../Data/Titanic/train.csv')\n",
    "test_data = pd.read_csv('../Data/Titanic/test.csv')\n",
    "print(train_data.columns)\n",
    "\n",
    "train_data"
   ],
   "id": "60d46e2ba65d6553",
   "outputs": [
    {
     "name": "stdout",
     "output_type": "stream",
     "text": [
      "Index(['PassengerId', 'Survived', 'Pclass', 'Name', 'Sex', 'Age', 'SibSp',\n",
      "       'Parch', 'Ticket', 'Fare', 'Cabin', 'Embarked'],\n",
      "      dtype='object')\n"
     ]
    },
    {
     "data": {
      "text/plain": [
       "     PassengerId  Survived  Pclass  \\\n",
       "0              1         0       3   \n",
       "1              2         1       1   \n",
       "2              3         1       3   \n",
       "3              4         1       1   \n",
       "4              5         0       3   \n",
       "..           ...       ...     ...   \n",
       "886          887         0       2   \n",
       "887          888         1       1   \n",
       "888          889         0       3   \n",
       "889          890         1       1   \n",
       "890          891         0       3   \n",
       "\n",
       "                                                  Name     Sex   Age  SibSp  \\\n",
       "0                              Braund, Mr. Owen Harris    male  22.0      1   \n",
       "1    Cumings, Mrs. John Bradley (Florence Briggs Th...  female  38.0      1   \n",
       "2                               Heikkinen, Miss. Laina  female  26.0      0   \n",
       "3         Futrelle, Mrs. Jacques Heath (Lily May Peel)  female  35.0      1   \n",
       "4                             Allen, Mr. William Henry    male  35.0      0   \n",
       "..                                                 ...     ...   ...    ...   \n",
       "886                              Montvila, Rev. Juozas    male  27.0      0   \n",
       "887                       Graham, Miss. Margaret Edith  female  19.0      0   \n",
       "888           Johnston, Miss. Catherine Helen \"Carrie\"  female   NaN      1   \n",
       "889                              Behr, Mr. Karl Howell    male  26.0      0   \n",
       "890                                Dooley, Mr. Patrick    male  32.0      0   \n",
       "\n",
       "     Parch            Ticket     Fare Cabin Embarked  \n",
       "0        0         A/5 21171   7.2500   NaN        S  \n",
       "1        0          PC 17599  71.2833   C85        C  \n",
       "2        0  STON/O2. 3101282   7.9250   NaN        S  \n",
       "3        0            113803  53.1000  C123        S  \n",
       "4        0            373450   8.0500   NaN        S  \n",
       "..     ...               ...      ...   ...      ...  \n",
       "886      0            211536  13.0000   NaN        S  \n",
       "887      0            112053  30.0000   B42        S  \n",
       "888      2        W./C. 6607  23.4500   NaN        S  \n",
       "889      0            111369  30.0000  C148        C  \n",
       "890      0            370376   7.7500   NaN        Q  \n",
       "\n",
       "[891 rows x 12 columns]"
      ],
      "text/html": [
       "<div>\n",
       "<style scoped>\n",
       "    .dataframe tbody tr th:only-of-type {\n",
       "        vertical-align: middle;\n",
       "    }\n",
       "\n",
       "    .dataframe tbody tr th {\n",
       "        vertical-align: top;\n",
       "    }\n",
       "\n",
       "    .dataframe thead th {\n",
       "        text-align: right;\n",
       "    }\n",
       "</style>\n",
       "<table border=\"1\" class=\"dataframe\">\n",
       "  <thead>\n",
       "    <tr style=\"text-align: right;\">\n",
       "      <th></th>\n",
       "      <th>PassengerId</th>\n",
       "      <th>Survived</th>\n",
       "      <th>Pclass</th>\n",
       "      <th>Name</th>\n",
       "      <th>Sex</th>\n",
       "      <th>Age</th>\n",
       "      <th>SibSp</th>\n",
       "      <th>Parch</th>\n",
       "      <th>Ticket</th>\n",
       "      <th>Fare</th>\n",
       "      <th>Cabin</th>\n",
       "      <th>Embarked</th>\n",
       "    </tr>\n",
       "  </thead>\n",
       "  <tbody>\n",
       "    <tr>\n",
       "      <th>0</th>\n",
       "      <td>1</td>\n",
       "      <td>0</td>\n",
       "      <td>3</td>\n",
       "      <td>Braund, Mr. Owen Harris</td>\n",
       "      <td>male</td>\n",
       "      <td>22.0</td>\n",
       "      <td>1</td>\n",
       "      <td>0</td>\n",
       "      <td>A/5 21171</td>\n",
       "      <td>7.2500</td>\n",
       "      <td>NaN</td>\n",
       "      <td>S</td>\n",
       "    </tr>\n",
       "    <tr>\n",
       "      <th>1</th>\n",
       "      <td>2</td>\n",
       "      <td>1</td>\n",
       "      <td>1</td>\n",
       "      <td>Cumings, Mrs. John Bradley (Florence Briggs Th...</td>\n",
       "      <td>female</td>\n",
       "      <td>38.0</td>\n",
       "      <td>1</td>\n",
       "      <td>0</td>\n",
       "      <td>PC 17599</td>\n",
       "      <td>71.2833</td>\n",
       "      <td>C85</td>\n",
       "      <td>C</td>\n",
       "    </tr>\n",
       "    <tr>\n",
       "      <th>2</th>\n",
       "      <td>3</td>\n",
       "      <td>1</td>\n",
       "      <td>3</td>\n",
       "      <td>Heikkinen, Miss. Laina</td>\n",
       "      <td>female</td>\n",
       "      <td>26.0</td>\n",
       "      <td>0</td>\n",
       "      <td>0</td>\n",
       "      <td>STON/O2. 3101282</td>\n",
       "      <td>7.9250</td>\n",
       "      <td>NaN</td>\n",
       "      <td>S</td>\n",
       "    </tr>\n",
       "    <tr>\n",
       "      <th>3</th>\n",
       "      <td>4</td>\n",
       "      <td>1</td>\n",
       "      <td>1</td>\n",
       "      <td>Futrelle, Mrs. Jacques Heath (Lily May Peel)</td>\n",
       "      <td>female</td>\n",
       "      <td>35.0</td>\n",
       "      <td>1</td>\n",
       "      <td>0</td>\n",
       "      <td>113803</td>\n",
       "      <td>53.1000</td>\n",
       "      <td>C123</td>\n",
       "      <td>S</td>\n",
       "    </tr>\n",
       "    <tr>\n",
       "      <th>4</th>\n",
       "      <td>5</td>\n",
       "      <td>0</td>\n",
       "      <td>3</td>\n",
       "      <td>Allen, Mr. William Henry</td>\n",
       "      <td>male</td>\n",
       "      <td>35.0</td>\n",
       "      <td>0</td>\n",
       "      <td>0</td>\n",
       "      <td>373450</td>\n",
       "      <td>8.0500</td>\n",
       "      <td>NaN</td>\n",
       "      <td>S</td>\n",
       "    </tr>\n",
       "    <tr>\n",
       "      <th>...</th>\n",
       "      <td>...</td>\n",
       "      <td>...</td>\n",
       "      <td>...</td>\n",
       "      <td>...</td>\n",
       "      <td>...</td>\n",
       "      <td>...</td>\n",
       "      <td>...</td>\n",
       "      <td>...</td>\n",
       "      <td>...</td>\n",
       "      <td>...</td>\n",
       "      <td>...</td>\n",
       "      <td>...</td>\n",
       "    </tr>\n",
       "    <tr>\n",
       "      <th>886</th>\n",
       "      <td>887</td>\n",
       "      <td>0</td>\n",
       "      <td>2</td>\n",
       "      <td>Montvila, Rev. Juozas</td>\n",
       "      <td>male</td>\n",
       "      <td>27.0</td>\n",
       "      <td>0</td>\n",
       "      <td>0</td>\n",
       "      <td>211536</td>\n",
       "      <td>13.0000</td>\n",
       "      <td>NaN</td>\n",
       "      <td>S</td>\n",
       "    </tr>\n",
       "    <tr>\n",
       "      <th>887</th>\n",
       "      <td>888</td>\n",
       "      <td>1</td>\n",
       "      <td>1</td>\n",
       "      <td>Graham, Miss. Margaret Edith</td>\n",
       "      <td>female</td>\n",
       "      <td>19.0</td>\n",
       "      <td>0</td>\n",
       "      <td>0</td>\n",
       "      <td>112053</td>\n",
       "      <td>30.0000</td>\n",
       "      <td>B42</td>\n",
       "      <td>S</td>\n",
       "    </tr>\n",
       "    <tr>\n",
       "      <th>888</th>\n",
       "      <td>889</td>\n",
       "      <td>0</td>\n",
       "      <td>3</td>\n",
       "      <td>Johnston, Miss. Catherine Helen \"Carrie\"</td>\n",
       "      <td>female</td>\n",
       "      <td>NaN</td>\n",
       "      <td>1</td>\n",
       "      <td>2</td>\n",
       "      <td>W./C. 6607</td>\n",
       "      <td>23.4500</td>\n",
       "      <td>NaN</td>\n",
       "      <td>S</td>\n",
       "    </tr>\n",
       "    <tr>\n",
       "      <th>889</th>\n",
       "      <td>890</td>\n",
       "      <td>1</td>\n",
       "      <td>1</td>\n",
       "      <td>Behr, Mr. Karl Howell</td>\n",
       "      <td>male</td>\n",
       "      <td>26.0</td>\n",
       "      <td>0</td>\n",
       "      <td>0</td>\n",
       "      <td>111369</td>\n",
       "      <td>30.0000</td>\n",
       "      <td>C148</td>\n",
       "      <td>C</td>\n",
       "    </tr>\n",
       "    <tr>\n",
       "      <th>890</th>\n",
       "      <td>891</td>\n",
       "      <td>0</td>\n",
       "      <td>3</td>\n",
       "      <td>Dooley, Mr. Patrick</td>\n",
       "      <td>male</td>\n",
       "      <td>32.0</td>\n",
       "      <td>0</td>\n",
       "      <td>0</td>\n",
       "      <td>370376</td>\n",
       "      <td>7.7500</td>\n",
       "      <td>NaN</td>\n",
       "      <td>Q</td>\n",
       "    </tr>\n",
       "  </tbody>\n",
       "</table>\n",
       "<p>891 rows × 12 columns</p>\n",
       "</div>"
      ]
     },
     "execution_count": 193,
     "metadata": {},
     "output_type": "execute_result"
    }
   ],
   "execution_count": 193
  },
  {
   "metadata": {},
   "cell_type": "markdown",
   "source": "# show stats of train data",
   "id": "e9e37cea656bbbde"
  },
  {
   "metadata": {
    "ExecuteTime": {
     "end_time": "2024-08-14T18:52:11.672942Z",
     "start_time": "2024-08-14T18:52:11.656764Z"
    }
   },
   "cell_type": "code",
   "source": "train_data.describe()",
   "id": "21bd9423a225a62d",
   "outputs": [
    {
     "data": {
      "text/plain": [
       "       PassengerId    Survived      Pclass         Age       SibSp  \\\n",
       "count   891.000000  891.000000  891.000000  714.000000  891.000000   \n",
       "mean    446.000000    0.383838    2.308642   29.699118    0.523008   \n",
       "std     257.353842    0.486592    0.836071   14.526497    1.102743   \n",
       "min       1.000000    0.000000    1.000000    0.420000    0.000000   \n",
       "25%     223.500000    0.000000    2.000000   20.125000    0.000000   \n",
       "50%     446.000000    0.000000    3.000000   28.000000    0.000000   \n",
       "75%     668.500000    1.000000    3.000000   38.000000    1.000000   \n",
       "max     891.000000    1.000000    3.000000   80.000000    8.000000   \n",
       "\n",
       "            Parch        Fare  \n",
       "count  891.000000  891.000000  \n",
       "mean     0.381594   32.204208  \n",
       "std      0.806057   49.693429  \n",
       "min      0.000000    0.000000  \n",
       "25%      0.000000    7.910400  \n",
       "50%      0.000000   14.454200  \n",
       "75%      0.000000   31.000000  \n",
       "max      6.000000  512.329200  "
      ],
      "text/html": [
       "<div>\n",
       "<style scoped>\n",
       "    .dataframe tbody tr th:only-of-type {\n",
       "        vertical-align: middle;\n",
       "    }\n",
       "\n",
       "    .dataframe tbody tr th {\n",
       "        vertical-align: top;\n",
       "    }\n",
       "\n",
       "    .dataframe thead th {\n",
       "        text-align: right;\n",
       "    }\n",
       "</style>\n",
       "<table border=\"1\" class=\"dataframe\">\n",
       "  <thead>\n",
       "    <tr style=\"text-align: right;\">\n",
       "      <th></th>\n",
       "      <th>PassengerId</th>\n",
       "      <th>Survived</th>\n",
       "      <th>Pclass</th>\n",
       "      <th>Age</th>\n",
       "      <th>SibSp</th>\n",
       "      <th>Parch</th>\n",
       "      <th>Fare</th>\n",
       "    </tr>\n",
       "  </thead>\n",
       "  <tbody>\n",
       "    <tr>\n",
       "      <th>count</th>\n",
       "      <td>891.000000</td>\n",
       "      <td>891.000000</td>\n",
       "      <td>891.000000</td>\n",
       "      <td>714.000000</td>\n",
       "      <td>891.000000</td>\n",
       "      <td>891.000000</td>\n",
       "      <td>891.000000</td>\n",
       "    </tr>\n",
       "    <tr>\n",
       "      <th>mean</th>\n",
       "      <td>446.000000</td>\n",
       "      <td>0.383838</td>\n",
       "      <td>2.308642</td>\n",
       "      <td>29.699118</td>\n",
       "      <td>0.523008</td>\n",
       "      <td>0.381594</td>\n",
       "      <td>32.204208</td>\n",
       "    </tr>\n",
       "    <tr>\n",
       "      <th>std</th>\n",
       "      <td>257.353842</td>\n",
       "      <td>0.486592</td>\n",
       "      <td>0.836071</td>\n",
       "      <td>14.526497</td>\n",
       "      <td>1.102743</td>\n",
       "      <td>0.806057</td>\n",
       "      <td>49.693429</td>\n",
       "    </tr>\n",
       "    <tr>\n",
       "      <th>min</th>\n",
       "      <td>1.000000</td>\n",
       "      <td>0.000000</td>\n",
       "      <td>1.000000</td>\n",
       "      <td>0.420000</td>\n",
       "      <td>0.000000</td>\n",
       "      <td>0.000000</td>\n",
       "      <td>0.000000</td>\n",
       "    </tr>\n",
       "    <tr>\n",
       "      <th>25%</th>\n",
       "      <td>223.500000</td>\n",
       "      <td>0.000000</td>\n",
       "      <td>2.000000</td>\n",
       "      <td>20.125000</td>\n",
       "      <td>0.000000</td>\n",
       "      <td>0.000000</td>\n",
       "      <td>7.910400</td>\n",
       "    </tr>\n",
       "    <tr>\n",
       "      <th>50%</th>\n",
       "      <td>446.000000</td>\n",
       "      <td>0.000000</td>\n",
       "      <td>3.000000</td>\n",
       "      <td>28.000000</td>\n",
       "      <td>0.000000</td>\n",
       "      <td>0.000000</td>\n",
       "      <td>14.454200</td>\n",
       "    </tr>\n",
       "    <tr>\n",
       "      <th>75%</th>\n",
       "      <td>668.500000</td>\n",
       "      <td>1.000000</td>\n",
       "      <td>3.000000</td>\n",
       "      <td>38.000000</td>\n",
       "      <td>1.000000</td>\n",
       "      <td>0.000000</td>\n",
       "      <td>31.000000</td>\n",
       "    </tr>\n",
       "    <tr>\n",
       "      <th>max</th>\n",
       "      <td>891.000000</td>\n",
       "      <td>1.000000</td>\n",
       "      <td>3.000000</td>\n",
       "      <td>80.000000</td>\n",
       "      <td>8.000000</td>\n",
       "      <td>6.000000</td>\n",
       "      <td>512.329200</td>\n",
       "    </tr>\n",
       "  </tbody>\n",
       "</table>\n",
       "</div>"
      ]
     },
     "execution_count": 194,
     "metadata": {},
     "output_type": "execute_result"
    }
   ],
   "execution_count": 194
  },
  {
   "metadata": {
    "ExecuteTime": {
     "end_time": "2024-08-14T18:52:12.887856Z",
     "start_time": "2024-08-14T18:52:12.872908Z"
    }
   },
   "cell_type": "code",
   "source": "train_data.describe(include=['O'])",
   "id": "f0829ecf489e54b0",
   "outputs": [
    {
     "data": {
      "text/plain": [
       "                           Name   Sex  Ticket    Cabin Embarked\n",
       "count                       891   891     891      204      889\n",
       "unique                      891     2     681      147        3\n",
       "top     Braund, Mr. Owen Harris  male  347082  B96 B98        S\n",
       "freq                          1   577       7        4      644"
      ],
      "text/html": [
       "<div>\n",
       "<style scoped>\n",
       "    .dataframe tbody tr th:only-of-type {\n",
       "        vertical-align: middle;\n",
       "    }\n",
       "\n",
       "    .dataframe tbody tr th {\n",
       "        vertical-align: top;\n",
       "    }\n",
       "\n",
       "    .dataframe thead th {\n",
       "        text-align: right;\n",
       "    }\n",
       "</style>\n",
       "<table border=\"1\" class=\"dataframe\">\n",
       "  <thead>\n",
       "    <tr style=\"text-align: right;\">\n",
       "      <th></th>\n",
       "      <th>Name</th>\n",
       "      <th>Sex</th>\n",
       "      <th>Ticket</th>\n",
       "      <th>Cabin</th>\n",
       "      <th>Embarked</th>\n",
       "    </tr>\n",
       "  </thead>\n",
       "  <tbody>\n",
       "    <tr>\n",
       "      <th>count</th>\n",
       "      <td>891</td>\n",
       "      <td>891</td>\n",
       "      <td>891</td>\n",
       "      <td>204</td>\n",
       "      <td>889</td>\n",
       "    </tr>\n",
       "    <tr>\n",
       "      <th>unique</th>\n",
       "      <td>891</td>\n",
       "      <td>2</td>\n",
       "      <td>681</td>\n",
       "      <td>147</td>\n",
       "      <td>3</td>\n",
       "    </tr>\n",
       "    <tr>\n",
       "      <th>top</th>\n",
       "      <td>Braund, Mr. Owen Harris</td>\n",
       "      <td>male</td>\n",
       "      <td>347082</td>\n",
       "      <td>B96 B98</td>\n",
       "      <td>S</td>\n",
       "    </tr>\n",
       "    <tr>\n",
       "      <th>freq</th>\n",
       "      <td>1</td>\n",
       "      <td>577</td>\n",
       "      <td>7</td>\n",
       "      <td>4</td>\n",
       "      <td>644</td>\n",
       "    </tr>\n",
       "  </tbody>\n",
       "</table>\n",
       "</div>"
      ]
     },
     "execution_count": 195,
     "metadata": {},
     "output_type": "execute_result"
    }
   ],
   "execution_count": 195
  },
  {
   "metadata": {
    "ExecuteTime": {
     "end_time": "2024-08-14T18:52:13.937698Z",
     "start_time": "2024-08-14T18:52:13.930636Z"
    }
   },
   "cell_type": "code",
   "source": "train_data.info()",
   "id": "fd2d7b6df78af40b",
   "outputs": [
    {
     "name": "stdout",
     "output_type": "stream",
     "text": [
      "<class 'pandas.core.frame.DataFrame'>\n",
      "RangeIndex: 891 entries, 0 to 890\n",
      "Data columns (total 12 columns):\n",
      " #   Column       Non-Null Count  Dtype  \n",
      "---  ------       --------------  -----  \n",
      " 0   PassengerId  891 non-null    int64  \n",
      " 1   Survived     891 non-null    int64  \n",
      " 2   Pclass       891 non-null    int64  \n",
      " 3   Name         891 non-null    object \n",
      " 4   Sex          891 non-null    object \n",
      " 5   Age          714 non-null    float64\n",
      " 6   SibSp        891 non-null    int64  \n",
      " 7   Parch        891 non-null    int64  \n",
      " 8   Ticket       891 non-null    object \n",
      " 9   Fare         891 non-null    float64\n",
      " 10  Cabin        204 non-null    object \n",
      " 11  Embarked     889 non-null    object \n",
      "dtypes: float64(2), int64(5), object(5)\n",
      "memory usage: 83.7+ KB\n"
     ]
    }
   ],
   "execution_count": 196
  },
  {
   "metadata": {
    "ExecuteTime": {
     "end_time": "2024-08-14T18:52:14.900933Z",
     "start_time": "2024-08-14T18:52:14.893727Z"
    }
   },
   "cell_type": "code",
   "source": "test_data.info()",
   "id": "121480754e902680",
   "outputs": [
    {
     "name": "stdout",
     "output_type": "stream",
     "text": [
      "<class 'pandas.core.frame.DataFrame'>\n",
      "RangeIndex: 418 entries, 0 to 417\n",
      "Data columns (total 11 columns):\n",
      " #   Column       Non-Null Count  Dtype  \n",
      "---  ------       --------------  -----  \n",
      " 0   PassengerId  418 non-null    int64  \n",
      " 1   Pclass       418 non-null    int64  \n",
      " 2   Name         418 non-null    object \n",
      " 3   Sex          418 non-null    object \n",
      " 4   Age          332 non-null    float64\n",
      " 5   SibSp        418 non-null    int64  \n",
      " 6   Parch        418 non-null    int64  \n",
      " 7   Ticket       418 non-null    object \n",
      " 8   Fare         417 non-null    float64\n",
      " 9   Cabin        91 non-null     object \n",
      " 10  Embarked     418 non-null    object \n",
      "dtypes: float64(2), int64(4), object(5)\n",
      "memory usage: 36.1+ KB\n"
     ]
    }
   ],
   "execution_count": 197
  },
  {
   "metadata": {},
   "cell_type": "markdown",
   "source": "# prepocess data",
   "id": "fe08e7e5012535aa"
  },
  {
   "metadata": {
    "ExecuteTime": {
     "end_time": "2024-08-14T18:52:24.239950Z",
     "start_time": "2024-08-14T18:52:24.226033Z"
    }
   },
   "cell_type": "code",
   "source": [
    "train_df = train_data.drop(columns=['Name', 'Ticket', 'Cabin', 'PassengerId'])\n",
    "\n",
    "# add a new column \"Family\" which equals SibSp + Parch, pretending overfitting\n",
    "train_df['Family'] = train_df['SibSp'] + train_df['Parch']\n",
    "train_df = train_df.drop(columns=['SibSp', 'Parch'])\n",
    "\n",
    "# fill Na with mean(Age) and value with max frequency(Embarked)\n",
    "emb_counts = dict(train_df['Embarked'].value_counts())\n",
    "na_cols = [col for col in train_df.columns if any(train_df[col].isna())]\n",
    "print(emb_counts)\n",
    "print(na_cols)\n",
    "\n",
    "train_df['Age'] = train_df['Age'].fillna(train_df['Age'].mean())\n",
    "train_df['Embarked'] = train_df['Embarked'].fillna(max(emb_counts)) # S\n",
    "print(train_df.isna().any().any())\n",
    "\n",
    "stoi = {}   # dict of dict :)\n",
    "for col in train_df.select_dtypes(include=['O']).columns:\n",
    "    stoi[col] = {s:i for i, s in enumerate(list(sorted(set(train_df[col]))))}\n",
    "    train_df[col] = list(stoi[col][p] for p in train_df[col].to_numpy())\n",
    "\n",
    "print(stoi)\n",
    "train_df.info()"
   ],
   "id": "7e2eef1347c123b7",
   "outputs": [
    {
     "name": "stdout",
     "output_type": "stream",
     "text": [
      "{'S': 644, 'C': 168, 'Q': 77}\n",
      "['Age', 'Embarked']\n",
      "False\n",
      "{'Sex': {'female': 0, 'male': 1}, 'Embarked': {'C': 0, 'Q': 1, 'S': 2}}\n",
      "<class 'pandas.core.frame.DataFrame'>\n",
      "RangeIndex: 891 entries, 0 to 890\n",
      "Data columns (total 7 columns):\n",
      " #   Column    Non-Null Count  Dtype  \n",
      "---  ------    --------------  -----  \n",
      " 0   Survived  891 non-null    int64  \n",
      " 1   Pclass    891 non-null    int64  \n",
      " 2   Sex       891 non-null    int64  \n",
      " 3   Age       891 non-null    float64\n",
      " 4   Fare      891 non-null    float64\n",
      " 5   Embarked  891 non-null    int64  \n",
      " 6   Family    891 non-null    int64  \n",
      "dtypes: float64(2), int64(5)\n",
      "memory usage: 48.9 KB\n"
     ]
    }
   ],
   "execution_count": 199
  },
  {
   "metadata": {},
   "cell_type": "markdown",
   "source": "# train model and tuning parameters(boring)",
   "id": "7cd229e62403ec7b"
  },
  {
   "metadata": {
    "ExecuteTime": {
     "end_time": "2024-08-14T18:52:39.400509Z",
     "start_time": "2024-08-14T18:52:39.394958Z"
    }
   },
   "cell_type": "code",
   "source": [
    "# translate Dataframe to numpy \n",
    "X, Y = train_df.drop(columns=['Survived']).to_numpy(), train_df['Survived'].to_numpy()\n",
    "train_X, test_X, train_Y, test_Y = model_selection.train_test_split(X, Y, test_size=0.2, random_state=42)"
   ],
   "id": "dd94e8888ac503eb",
   "outputs": [],
   "execution_count": 200
  },
  {
   "metadata": {
    "ExecuteTime": {
     "end_time": "2024-08-14T18:52:41.488273Z",
     "start_time": "2024-08-14T18:52:41.013529Z"
    }
   },
   "cell_type": "code",
   "source": [
    "# select the best parameters (tune max_depth and criterion)\n",
    "# we can get max_depth = 3\n",
    "train_score = []\n",
    "test_score = []\n",
    "\n",
    "for i in range(10):\n",
    "    clf = tree.DecisionTreeClassifier(\n",
    "        max_depth=i+1,\n",
    "        criterion='gini'\n",
    "    )\n",
    "    clf = clf.fit(train_X, train_Y)\n",
    "    train_score.append(clf.score(train_X, train_Y))\n",
    "    test_score.append(clf.score(test_X, test_Y))\n",
    "    \n",
    "dif = [a - b for a, b in zip(train_score, test_score)]\n",
    "\n",
    "plt.subplots(1, 2, figsize=(10, 3))\n",
    "plt.subplot(1, 2, 1)\n",
    "plt.plot(range(1, 11), train_score, label='train')\n",
    "plt.plot(range(1, 11), test_score, label='test')\n",
    "plt.legend()\n",
    "plt.subplot(1, 2, 2)\n",
    "plt.plot(range(1, 11), dif)\n",
    "plt.scatter(dif.index(min(dif[2:])) + 1, min(dif[2:]), s=20, c='r')\n",
    "plt.show()\n",
    "\n",
    "print(f'gini -> max_depth {dif.index(min(dif[2:])) + 1}, test score {test_score[dif.index(min(dif[2:]))]}')"
   ],
   "id": "361c948e8367e07f",
   "outputs": [
    {
     "data": {
      "text/plain": [
       "<Figure size 1000x300 with 2 Axes>"
      ],
      "image/png": "[encoded data removed]"
     },
     "metadata": {},
     "output_type": "display_data"
    },
    {
     "name": "stdout",
     "output_type": "stream",
     "text": [
      "gini -> max_depth 3, test score 0.7988826815642458\n"
     ]
    }
   ],
   "execution_count": 201
  },
  {
   "metadata": {
    "ExecuteTime": {
     "end_time": "2024-08-14T18:52:43.693980Z",
     "start_time": "2024-08-14T18:52:43.404999Z"
    }
   },
   "cell_type": "code",
   "source": [
    "clf = tree.DecisionTreeClassifier(\n",
    "        max_depth=3,\n",
    "        criterion='gini'\n",
    "    )\n",
    "clf = clf.fit(train_X, train_Y)\n",
    "tree.plot_tree(clf, rounded=True, filled=True)\n",
    "plt.figure(figsize=(100, 100))\n",
    "plt.show()"
   ],
   "id": "35885bf85f1a6ad6",
   "outputs": [
    {
     "data": {
      "text/plain": [
       "<Figure size 640x480 with 1 Axes>"
      ],
      "image/png": "[encoded data removed]"
     },
     "metadata": {},
     "output_type": "display_data"
    },
    {
     "data": {
      "text/plain": [
       "<Figure size 10000x10000 with 0 Axes>"
      ]
     },
     "metadata": {},
     "output_type": "display_data"
    }
   ],
   "execution_count": 202
  },
  {
   "metadata": {
    "ExecuteTime": {
     "end_time": "2024-08-14T18:52:47.516506Z",
     "start_time": "2024-08-14T18:52:47.332557Z"
    }
   },
   "cell_type": "code",
   "source": [
    "# select the best parameters (tune max_depth and criterion)\n",
    "# we can get max_depth = 3\n",
    "train_score = []\n",
    "test_score = []\n",
    "\n",
    "for i in range(10):\n",
    "    clf = tree.DecisionTreeClassifier(\n",
    "        max_depth=i+1,\n",
    "        criterion='entropy'\n",
    "    )\n",
    "    clf = clf.fit(train_X, train_Y)\n",
    "    train_score.append(clf.score(train_X, train_Y))\n",
    "    test_score.append(clf.score(test_X, test_Y))\n",
    "    \n",
    "dif = [a - b for a, b in zip(train_score, test_score)]\n",
    "\n",
    "plt.subplots(1, 2, figsize=(10, 3))\n",
    "plt.subplot(1, 2, 1)\n",
    "plt.plot(range(1, 11), train_score, label='train')\n",
    "plt.plot(range(1, 11), test_score, label='test')\n",
    "plt.legend()\n",
    "plt.subplot(1, 2, 2)\n",
    "plt.plot(range(1, 11), dif)\n",
    "plt.scatter(dif.index(min(dif[2:])) + 1, min(dif[2:]), s=20, c='r')\n",
    "plt.show()\n",
    "\n",
    "print(f'entropy -> max_depth {dif.index(min(dif[2:])) + 1}, test score {test_score[dif.index(min(dif[2:]))]}')"
   ],
   "id": "aa6cccc5ac2dcfa4",
   "outputs": [
    {
     "data": {
      "text/plain": [
       "<Figure size 1000x300 with 2 Axes>"
      ],
      "image/png": "[encoded data removed]"
     },
     "metadata": {},
     "output_type": "display_data"
    },
    {
     "name": "stdout",
     "output_type": "stream",
     "text": [
      "entropy -> max_depth 3, test score 0.7988826815642458\n"
     ]
    }
   ],
   "execution_count": 203
  },
  {
   "metadata": {
    "ExecuteTime": {
     "end_time": "2024-08-14T18:52:49.438677Z",
     "start_time": "2024-08-14T18:52:49.276352Z"
    }
   },
   "cell_type": "code",
   "source": [
    "# select the best parameters (tune max_depth and criterion)\n",
    "train_score = []\n",
    "test_score = []\n",
    "\n",
    "for i in range(10):\n",
    "    clf = tree.DecisionTreeClassifier(\n",
    "        max_depth=i+1,\n",
    "        criterion='entropy'\n",
    "    )\n",
    "    clf = clf.fit(train_X, train_Y)\n",
    "    train_score.append(clf.score(train_X, train_Y))\n",
    "    test_score.append(clf.score(test_X, test_Y))\n",
    "    \n",
    "dif = [a - b for a, b in zip(train_score, test_score)]\n",
    "\n",
    "plt.subplots(1, 2, figsize=(10, 3))\n",
    "plt.subplot(1, 2, 1)\n",
    "plt.plot(range(1, 11), train_score, label='train')\n",
    "plt.plot(range(1, 11), test_score, label='test')\n",
    "plt.legend()\n",
    "plt.subplot(1, 2, 2)\n",
    "plt.plot(range(1, 11), dif)\n",
    "plt.scatter(dif.index(min(dif[2:])) + 1, min(dif[2:]), s=20, c='r')\n",
    "plt.show()"
   ],
   "id": "4deb3fc73169406",
   "outputs": [
    {
     "data": {
      "text/plain": [
       "<Figure size 1000x300 with 2 Axes>"
      ],
      "image/png": "[encoded data removed]"
     },
     "metadata": {},
     "output_type": "display_data"
    }
   ],
   "execution_count": 204
  },
  {
   "metadata": {
    "ExecuteTime": {
     "end_time": "2024-08-14T18:52:51.707903Z",
     "start_time": "2024-08-14T18:52:51.701142Z"
    }
   },
   "cell_type": "code",
   "source": [
    "train_X, test_X, train_Y, test_Y = model_selection.train_test_split(X, Y, test_size=0.2, random_state=20)\n",
    "clf = tree.DecisionTreeClassifier(\n",
    "    max_depth=3,\n",
    "    criterion='entropy',\n",
    "    min_impurity_decrease=0.1,\n",
    ")\n",
    "clf = clf.fit(train_X, train_Y)\n",
    "print(f\"score: {clf.score(test_X, test_Y)}\")"
   ],
   "id": "4316a1fb549fb691",
   "outputs": [
    {
     "name": "stdout",
     "output_type": "stream",
     "text": [
      "score: 0.8324022346368715\n"
     ]
    }
   ],
   "execution_count": 205
  },
  {
   "metadata": {},
   "cell_type": "markdown",
   "source": "# Predict and save results",
   "id": "6a3c7a9664f815f5"
  },
  {
   "metadata": {
    "ExecuteTime": {
     "end_time": "2024-08-14T18:52:54.977564Z",
     "start_time": "2024-08-14T18:52:54.963216Z"
    }
   },
   "cell_type": "code",
   "source": [
    "# do the same work to test_data\n",
    "test_df = test_data.drop(columns=['Name', 'Ticket', 'Cabin', 'PassengerId'])\n",
    "\n",
    "# add a new column \"Family\" which equals SibSp + Parch, pretending overfitting\n",
    "test_df['Family'] = test_df['SibSp'] + test_df['Parch']\n",
    "test_df = test_df.drop(columns=['SibSp', 'Parch'])\n",
    "\n",
    "# fill Na with mean(Age) and value with max frequency(Embarked)\n",
    "emb_counts = dict(test_df['Embarked'].value_counts())\n",
    "na_cols = [col for col in test_df.columns if any(test_df[col].isna())]\n",
    "print(emb_counts)\n",
    "print(na_cols)\n",
    "\n",
    "test_df['Age'] = test_df['Age'].fillna(test_df['Age'].mean())\n",
    "test_df['Fare'] = test_df['Fare'].fillna(test_df['Fare'].mean())\n",
    "test_df['Embarked'] = test_df['Embarked'].fillna(max(emb_counts)) # S\n",
    "print(train_df.isna().any().any())\n",
    "\n",
    "stoi = {}   # dict of dict :)\n",
    "for col in test_df.select_dtypes(include=['O']).columns:\n",
    "    stoi[col] = {s:i for i, s in enumerate(list(sorted(set(test_df[col]))))}\n",
    "    test_df[col] = list(stoi[col][p] for p in test_df[col].to_numpy())\n",
    "\n",
    "print(stoi)\n",
    "\n",
    "test_df.info()"
   ],
   "id": "3be0669a0527c5dc",
   "outputs": [
    {
     "name": "stdout",
     "output_type": "stream",
     "text": [
      "{'S': 270, 'C': 102, 'Q': 46}\n",
      "['Age', 'Fare']\n",
      "False\n",
      "{'Sex': {'female': 0, 'male': 1}, 'Embarked': {'C': 0, 'Q': 1, 'S': 2}}\n",
      "<class 'pandas.core.frame.DataFrame'>\n",
      "RangeIndex: 418 entries, 0 to 417\n",
      "Data columns (total 6 columns):\n",
      " #   Column    Non-Null Count  Dtype  \n",
      "---  ------    --------------  -----  \n",
      " 0   Pclass    418 non-null    int64  \n",
      " 1   Sex       418 non-null    int64  \n",
      " 2   Age       418 non-null    float64\n",
      " 3   Fare      418 non-null    float64\n",
      " 4   Embarked  418 non-null    int64  \n",
      " 5   Family    418 non-null    int64  \n",
      "dtypes: float64(2), int64(4)\n",
      "memory usage: 19.7 KB\n"
     ]
    }
   ],
   "execution_count": 206
  },
  {
   "metadata": {
    "ExecuteTime": {
     "end_time": "2024-08-14T19:00:12.948316Z",
     "start_time": "2024-08-14T19:00:12.938203Z"
    }
   },
   "cell_type": "code",
   "source": [
    "predict_survives = clf.predict(test_df.to_numpy())\n",
    "predict_survives_df = pd.DataFrame(predict_survives, columns=['Survived'])\n",
    "result = pd.concat([test_data[['PassengerId']], predict_survives_df], axis=1)\n",
    "\n",
    "# 保存为CSV文件，不包含索引\n",
    "result.to_csv('../Data/Titanic/result.csv', index=False)"
   ],
   "id": "cab46fae6e7f9f6",
   "outputs": [],
   "execution_count": 215
  }
 ],
 "metadata": {
  "kernelspec": {
   "display_name": "Python 3",
   "language": "python",
   "name": "python3"
  },
  "language_info": {
   "codemirror_mode": {
    "name": "ipython",
    "version": 2
   },
   "file_extension": ".py",
   "mimetype": "text/x-python",
   "name": "python",
   "nbconvert_exporter": "python",
   "pygments_lexer": "ipython2",
   "version": "2.7.6"
  }
 },
 "nbformat": 4,
 "nbformat_minor": 5
}
