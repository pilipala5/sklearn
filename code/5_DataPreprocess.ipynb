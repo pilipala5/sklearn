{
 "cells": [
  {
   "cell_type": "code",
   "id": "initial_id",
   "metadata": {
    "collapsed": true,
    "ExecuteTime": {
     "end_time": "2024-08-25T03:32:55.422506Z",
     "start_time": "2024-08-25T03:32:52.854119Z"
    }
   },
   "source": [
    "import pandas as pd\n",
    "import numpy as np\n",
    "import sklearn\n",
    "import matplotlib.pyplot as plt\n",
    "%matplotlib inline"
   ],
   "outputs": [],
   "execution_count": 1
  },
  {
   "metadata": {
    "ExecuteTime": {
     "end_time": "2024-08-25T03:32:56.360849Z",
     "start_time": "2024-08-25T03:32:56.349906Z"
    }
   },
   "cell_type": "code",
   "source": [
    "# 假设有一个 DataFrame 包含分类数据和目标变量\n",
    "df = pd.DataFrame({\n",
    "    'Category': ['A', 'B', 'A', 'C', 'B', 'C'],\n",
    "    'Target': [10, 20, 10, 30, 20, 30]\n",
    "})\n",
    "\n",
    "# 计算每个类别的目标平均值\n",
    "target_mean = df.groupby('Category')['Target'].mean()\n",
    "\n",
    "# 用目标均值进行编码\n",
    "df['Category_encoded'] = df['Category'].map(target_mean)\n",
    "\n",
    "print(\"目标编码结果:\")\n",
    "print(df)"
   ],
   "id": "9bc8eec377675dca",
   "outputs": [
    {
     "name": "stdout",
     "output_type": "stream",
     "text": [
      "目标编码结果:\n",
      "  Category  Target  Category_encoded\n",
      "0        A      10              10.0\n",
      "1        B      20              20.0\n",
      "2        A      10              10.0\n",
      "3        C      30              30.0\n",
      "4        B      20              20.0\n",
      "5        C      30              30.0\n"
     ]
    }
   ],
   "execution_count": 2
  }
 ],
 "metadata": {
  "kernelspec": {
   "display_name": "Python 3",
   "language": "python",
   "name": "python3"
  },
  "language_info": {
   "codemirror_mode": {
    "name": "ipython",
    "version": 2
   },
   "file_extension": ".py",
   "mimetype": "text/x-python",
   "name": "python",
   "nbconvert_exporter": "python",
   "pygments_lexer": "ipython2",
   "version": "2.7.6"
  }
 },
 "nbformat": 4,
 "nbformat_minor": 5
}
