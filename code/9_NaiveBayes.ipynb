{
 "cells": [
  {
   "cell_type": "code",
   "id": "initial_id",
   "metadata": {
    "collapsed": true,
    "ExecuteTime": {
     "end_time": "2024-09-17T06:41:09.530105Z",
     "start_time": "2024-09-17T06:41:09.526903Z"
    }
   },
   "source": [
    "import numpy as np\n",
    "from sklearn.feature_extraction.text import CountVectorizer\n",
    "from sklearn.naive_bayes import MultinomialNB\n",
    "from sklearn.model_selection import train_test_split\n",
    "from sklearn.naive_bayes import GaussianNB\n",
    "from sklearn import datasets\n",
    "from sklearn.metrics import accuracy_score"
   ],
   "outputs": [],
   "execution_count": 24
  },
  {
   "metadata": {
    "ExecuteTime": {
     "end_time": "2024-09-17T06:41:09.537880Z",
     "start_time": "2024-09-17T06:41:09.533969Z"
    }
   },
   "cell_type": "code",
   "source": [
    "# 文本数据\n",
    "emails = [\n",
    "    '免费优惠，立即点击领取',\n",
    "    '尊敬的客户，您的账单已出',\n",
    "    '快来参与我们的抽奖活动',\n",
    "    '您的账户存在异常登录',\n",
    "    '赢取大奖，只需填写信息',\n",
    "    '请查看您最近的交易记录'\n",
    "]\n",
    "\n",
    "# 标签（1表示垃圾邮件，0表示正常邮件）\n",
    "labels = [1, 0, 1, 0, 1, 0]"
   ],
   "id": "9dc0dfacfb91bfda",
   "outputs": [],
   "execution_count": 25
  },
  {
   "metadata": {
    "ExecuteTime": {
     "end_time": "2024-09-17T06:41:09.545557Z",
     "start_time": "2024-09-17T06:41:09.539890Z"
    }
   },
   "cell_type": "code",
   "source": [
    "vectorizer = CountVectorizer()\n",
    "X = vectorizer.fit_transform(emails)\n",
    "vectorizer.get_feature_names_out()"
   ],
   "id": "41ac0d9bbcd6ddff",
   "outputs": [
    {
     "data": {
      "text/plain": [
       "array(['免费优惠', '只需填写信息', '尊敬的客户', '快来参与我们的抽奖活动', '您的账单已出', '您的账户存在异常登录',\n",
       "       '立即点击领取', '请查看您最近的交易记录', '赢取大奖'], dtype=object)"
      ]
     },
     "execution_count": 26,
     "metadata": {},
     "output_type": "execute_result"
    }
   ],
   "execution_count": 26
  },
  {
   "metadata": {
    "ExecuteTime": {
     "end_time": "2024-09-17T06:41:09.553693Z",
     "start_time": "2024-09-17T06:41:09.546417Z"
    }
   },
   "cell_type": "code",
   "source": [
    "X_train, X_test, y_train, y_test = train_test_split(X, labels, test_size=0.3, random_state=42)\n",
    "model = MultinomialNB()\n",
    "model.fit(X_train, y_train)\n",
    "y_pred = model.predict(X_test)\n",
    "accuracy = accuracy_score(y_test, y_pred)\n",
    "print(\"模型准确率：\", accuracy)"
   ],
   "id": "7a6ac605f7060b9a",
   "outputs": [
    {
     "name": "stdout",
     "output_type": "stream",
     "text": [
      "模型准确率： 0.5\n"
     ]
    }
   ],
   "execution_count": 27
  },
  {
   "metadata": {
    "ExecuteTime": {
     "end_time": "2024-09-17T06:41:09.563981Z",
     "start_time": "2024-09-17T06:41:09.555214Z"
    }
   },
   "cell_type": "code",
   "source": [
    "# 加载鸢尾花数据集\n",
    "iris = datasets.load_iris()\n",
    "X = iris.data  # 特征：花萼长度、花萼宽度、花瓣长度、花瓣宽度\n",
    "y = iris.target  # 标签：0、1、2 对应三种鸢尾花品种\n",
    "\n",
    "# 划分训练集和测试集\n",
    "X_train, X_test, y_train, y_test = train_test_split(X, y, test_size=0.3, random_state=42)\n",
    "\n",
    "# 初始化高斯朴素贝叶斯模型\n",
    "model = GaussianNB()\n",
    "\n",
    "# 训练模型\n",
    "model.fit(X_train, y_train)\n",
    "\n",
    "# 预测\n",
    "y_pred = model.predict(X_test)\n",
    "\n",
    "# 评估模型\n",
    "accuracy = accuracy_score(y_test, y_pred)\n",
    "print(\"高斯朴素贝叶斯模型准确率：\", accuracy)"
   ],
   "id": "6883c676417c64f7",
   "outputs": [
    {
     "name": "stdout",
     "output_type": "stream",
     "text": [
      "高斯朴素贝叶斯模型准确率： 0.9777777777777777\n"
     ]
    }
   ],
   "execution_count": 28
  }
 ],
 "metadata": {
  "kernelspec": {
   "display_name": "Python 3",
   "language": "python",
   "name": "python3"
  },
  "language_info": {
   "codemirror_mode": {
    "name": "ipython",
    "version": 2
   },
   "file_extension": ".py",
   "mimetype": "text/x-python",
   "name": "python",
   "nbconvert_exporter": "python",
   "pygments_lexer": "ipython2",
   "version": "2.7.6"
  }
 },
 "nbformat": 4,
 "nbformat_minor": 5
}
